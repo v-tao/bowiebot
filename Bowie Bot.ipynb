{
 "cells": [
  {
   "cell_type": "code",
   "execution_count": 14,
   "metadata": {},
   "outputs": [],
   "source": [
    "import os\n",
    "import pandas as pd\n",
    "import plotly.express as px"
   ]
  },
  {
   "cell_type": "code",
   "execution_count": 15,
   "metadata": {},
   "outputs": [],
   "source": [
    "class Song:\n",
    "    def __init__(self, file_path):\n",
    "\n",
    "        file_name = file_path.split(\"/\")[-1]\n",
    "        self.side = 'No_Side'\n",
    "        self.year = file_path.split(\"/\")[1].split(\"_\")[0]\n",
    "        self.album = file_path.split(\"/\")[1][4:].replace(\"_\", \" \")\n",
    "        if 'A_Side' in file_path:\n",
    "            self.side = 'A_Side'\n",
    "        elif 'B_Side' in file_path:\n",
    "            self.side = 'B_Side'\n",
    "        track_number_and_title = (file_name.split(\".\")[0])\n",
    "        self.track_number = int(track_number_and_title.split(\"_\")[0])\n",
    "        self.title = \" \".join(track_number_and_title.split(\"_\"))[1:]\n",
    "        self.text = open(file_path, 'r').read().replace(\"\\n\", \" \")\n",
    "\n",
    "    def __repr__(self):\n",
    "        return self.title"
   ]
  },
  {
   "cell_type": "code",
   "execution_count": 16,
   "metadata": {},
   "outputs": [],
   "source": [
    "class Album:\n",
    "    def __init__(self, directory):\n",
    "\n",
    "        directory_name = directory.split(\"/\")[-1]\n",
    "\n",
    "        self.title = directory_name[4:]\n",
    "        self.year = directory_name[:4]\n",
    "        self.sides = []\n",
    "        self.track = {}\n",
    "\n",
    "        self.load_songs_from_album_directory(directory)\n",
    "        \n",
    "        self.songs = [song for side in self.track.values() for song in side]\n",
    "\n",
    "    def load_songs_from_album_directory(self, directory):\n",
    "        files = list(os.walk(directory))\n",
    "\n",
    "        self.sides = files[0][1]\n",
    "        self.sides.sort()\n",
    "        for side in self.sides:\n",
    "            side_files = list(os.walk(directory + f\"/{side}\"))\n",
    "            side_files[0][2].sort()\n",
    "            self.track[side] = [Song(directory + f\"/{side}/\" + song_file) for song_file in side_files[0][2]]\n",
    "\n",
    "        if files[0][2] != []:\n",
    "            self.sides = ['No_Side']\n",
    "            files[0][2].sort()\n",
    "            self.track['No_Side'] = [Song(directory + \"/\" + song_file) for song_file in files[0][2]]\n",
    "        self.sides.sort()\n",
    "\n",
    "\n",
    "    def side_as_str(self, side):\n",
    "        return \"\".join([f'\\n>>>>>> {song}' for song in self.track[side]])\n",
    "\n",
    "\n",
    "    def __repr__(self):\n",
    "        headline = f\"{self.year:<4}: {self.title}\"\n",
    "        sides = \"\".join([f\"\\n>>> {side} {self.side_as_str(side)}\" for side in self.sides])\n",
    "        return headline + sides\n",
    "a = Album(\"data/1967_David_Bowie\")"
   ]
  },
  {
   "cell_type": "code",
   "execution_count": 17,
   "metadata": {},
   "outputs": [],
   "source": [
    "class BowieData:\n",
    "    def __init__(self, directory):\n",
    "        # gets the file paths for all the albums in the directory\n",
    "        albums = list(map(lambda album: directory + album,list(os.walk(directory))[0][1]))\n",
    "        albums.sort()\n",
    "        self.albums = [Album(album) for album in albums]\n",
    "        songs = [album.songs for album in self.albums]\n",
    "        self.songs = [song for album in songs for song in album]"
   ]
  },
  {
   "cell_type": "code",
   "execution_count": 25,
   "metadata": {},
   "outputs": [
    {
     "data": {
      "text/html": [
       "<div>\n",
       "<style scoped>\n",
       "    .dataframe tbody tr th:only-of-type {\n",
       "        vertical-align: middle;\n",
       "    }\n",
       "\n",
       "    .dataframe tbody tr th {\n",
       "        vertical-align: top;\n",
       "    }\n",
       "\n",
       "    .dataframe thead th {\n",
       "        text-align: right;\n",
       "    }\n",
       "</style>\n",
       "<table border=\"1\" class=\"dataframe\">\n",
       "  <thead>\n",
       "    <tr style=\"text-align: right;\">\n",
       "      <th></th>\n",
       "      <th>Song Title</th>\n",
       "      <th>Index</th>\n",
       "      <th>Year</th>\n",
       "      <th>Album</th>\n",
       "      <th>Word Count</th>\n",
       "      <th>Unique Words</th>\n",
       "      <th>Percent Unique</th>\n",
       "    </tr>\n",
       "  </thead>\n",
       "  <tbody>\n",
       "    <tr>\n",
       "      <td>0</td>\n",
       "      <td>Uncle Arthur</td>\n",
       "      <td>0</td>\n",
       "      <td>1967</td>\n",
       "      <td>David Bowie</td>\n",
       "      <td>204</td>\n",
       "      <td>125</td>\n",
       "      <td>0.612745</td>\n",
       "    </tr>\n",
       "    <tr>\n",
       "      <td>1</td>\n",
       "      <td>Sell Me a Coat</td>\n",
       "      <td>1</td>\n",
       "      <td>1967</td>\n",
       "      <td>David Bowie</td>\n",
       "      <td>234</td>\n",
       "      <td>78</td>\n",
       "      <td>0.333333</td>\n",
       "    </tr>\n",
       "    <tr>\n",
       "      <td>2</td>\n",
       "      <td>Rubber Band</td>\n",
       "      <td>2</td>\n",
       "      <td>1967</td>\n",
       "      <td>David Bowie</td>\n",
       "      <td>177</td>\n",
       "      <td>106</td>\n",
       "      <td>0.598870</td>\n",
       "    </tr>\n",
       "    <tr>\n",
       "      <td>3</td>\n",
       "      <td>Love You till Tuesday</td>\n",
       "      <td>3</td>\n",
       "      <td>1967</td>\n",
       "      <td>David Bowie</td>\n",
       "      <td>287</td>\n",
       "      <td>111</td>\n",
       "      <td>0.386760</td>\n",
       "    </tr>\n",
       "    <tr>\n",
       "      <td>4</td>\n",
       "      <td>There Is a Happy Land</td>\n",
       "      <td>4</td>\n",
       "      <td>1967</td>\n",
       "      <td>David Bowie</td>\n",
       "      <td>224</td>\n",
       "      <td>141</td>\n",
       "      <td>0.629464</td>\n",
       "    </tr>\n",
       "    <tr>\n",
       "      <td>5</td>\n",
       "      <td>We Are Hungry Men</td>\n",
       "      <td>5</td>\n",
       "      <td>1967</td>\n",
       "      <td>David Bowie</td>\n",
       "      <td>311</td>\n",
       "      <td>156</td>\n",
       "      <td>0.501608</td>\n",
       "    </tr>\n",
       "    <tr>\n",
       "      <td>6</td>\n",
       "      <td>When I Live My Dream</td>\n",
       "      <td>6</td>\n",
       "      <td>1967</td>\n",
       "      <td>David Bowie</td>\n",
       "      <td>280</td>\n",
       "      <td>138</td>\n",
       "      <td>0.492857</td>\n",
       "    </tr>\n",
       "    <tr>\n",
       "      <td>7</td>\n",
       "      <td>Little Bombardier</td>\n",
       "      <td>7</td>\n",
       "      <td>1967</td>\n",
       "      <td>David Bowie</td>\n",
       "      <td>206</td>\n",
       "      <td>130</td>\n",
       "      <td>0.631068</td>\n",
       "    </tr>\n",
       "    <tr>\n",
       "      <td>8</td>\n",
       "      <td>Silly Boy Blue</td>\n",
       "      <td>8</td>\n",
       "      <td>1967</td>\n",
       "      <td>David Bowie</td>\n",
       "      <td>168</td>\n",
       "      <td>86</td>\n",
       "      <td>0.511905</td>\n",
       "    </tr>\n",
       "    <tr>\n",
       "      <td>9</td>\n",
       "      <td>Come and Buy My Toys</td>\n",
       "      <td>9</td>\n",
       "      <td>1967</td>\n",
       "      <td>David Bowie</td>\n",
       "      <td>182</td>\n",
       "      <td>104</td>\n",
       "      <td>0.571429</td>\n",
       "    </tr>\n",
       "  </tbody>\n",
       "</table>\n",
       "</div>"
      ],
      "text/plain": [
       "               Song Title  Index  Year         Album  Word Count  \\\n",
       "0            Uncle Arthur      0  1967   David Bowie         204   \n",
       "1          Sell Me a Coat      1  1967   David Bowie         234   \n",
       "2             Rubber Band      2  1967   David Bowie         177   \n",
       "3   Love You till Tuesday      3  1967   David Bowie         287   \n",
       "4   There Is a Happy Land      4  1967   David Bowie         224   \n",
       "5       We Are Hungry Men      5  1967   David Bowie         311   \n",
       "6    When I Live My Dream      6  1967   David Bowie         280   \n",
       "7       Little Bombardier      7  1967   David Bowie         206   \n",
       "8          Silly Boy Blue      8  1967   David Bowie         168   \n",
       "9    Come and Buy My Toys      9  1967   David Bowie         182   \n",
       "\n",
       "   Unique Words  Percent Unique  \n",
       "0           125        0.612745  \n",
       "1            78        0.333333  \n",
       "2           106        0.598870  \n",
       "3           111        0.386760  \n",
       "4           141        0.629464  \n",
       "5           156        0.501608  \n",
       "6           138        0.492857  \n",
       "7           130        0.631068  \n",
       "8            86        0.511905  \n",
       "9           104        0.571429  "
      ]
     },
     "execution_count": 25,
     "metadata": {},
     "output_type": "execute_result"
    }
   ],
   "source": [
    "data = BowieData(\"data/\")\n",
    "df = pd.DataFrame()\n",
    "df['Song Title'] = data.songs\n",
    "df['Index'] = df.index\n",
    "df['Year'] = [song.year for song in data.songs]\n",
    "df['Album'] = [song.album for song in data.songs]\n",
    "df['Word Count'] = [len(song.text.split(\" \")) for song in data.songs]\n",
    "df['Unique Words'] = [len(set(song.text.split(\" \"))) for song in data.songs]\n",
    "df['Percent Unique'] = df['Unique Words']/df['Word Count']\n",
    "df.head(10)"
   ]
  },
  {
   "cell_type": "code",
   "execution_count": 28,
   "metadata": {},
   "outputs": [
    {
     "data": {
      "application/vnd.plotly.v1+json": {
       "config": {
        "plotlyServerURL": "https://plot.ly"
       },
       "data": [
        {
         "hovertemplate": "Year=%{x}<br>Percent Unique=%{y}<extra></extra>",
         "legendgroup": "",
         "marker": {
          "color": "#636efa",
          "symbol": "circle"
         },
         "mode": "markers",
         "name": "",
         "orientation": "v",
         "showlegend": false,
         "type": "scatter",
         "x": [
          "1967",
          "1967",
          "1967",
          "1967",
          "1967",
          "1967",
          "1967",
          "1967",
          "1967",
          "1967",
          "1967",
          "1967",
          "1967",
          "1967",
          "1969",
          "1969",
          "1969",
          "1969",
          "1969",
          "1969",
          "1969",
          "1969",
          "1969",
          "1970",
          "1970",
          "1970",
          "1970",
          "1970",
          "1970",
          "1970",
          "1970",
          "1970",
          "1971",
          "1971",
          "1971",
          "1971",
          "1971",
          "1971",
          "1971",
          "1971",
          "1971",
          "1971",
          "1971",
          "1972",
          "1972",
          "1972",
          "1972",
          "1972",
          "1972",
          "1972",
          "1972",
          "1972",
          "1972",
          "1972",
          "1973",
          "1973",
          "1973",
          "1973",
          "1973",
          "1973",
          "1973",
          "1973",
          "1973",
          "1973",
          "1974",
          "1974",
          "1974",
          "1974",
          "1974",
          "1974",
          "1974",
          "1974",
          "1974",
          "1974",
          "1974",
          "1975",
          "1975",
          "1975",
          "1975",
          "1975",
          "1975",
          "1975",
          "1975",
          "1976",
          "1976",
          "1976",
          "1976",
          "1976",
          "1976",
          "1977a",
          "1977a",
          "1977a",
          "1977a",
          "1977a",
          "1977a",
          "1977a",
          "1977a",
          "1977a",
          "1977a",
          "1977a",
          "1977b",
          "1977b",
          "1977b",
          "1977b",
          "1977b",
          "1977b",
          "1977b",
          "1977b",
          "1977b",
          "1977b",
          "1979",
          "1979",
          "1979",
          "1979",
          "1979",
          "1979",
          "1979",
          "1979",
          "1979",
          "1979",
          "1980",
          "1980",
          "1980",
          "1980",
          "1980",
          "1980",
          "1980",
          "1980",
          "1980",
          "1980",
          "1983",
          "1983",
          "1983",
          "1983",
          "1983",
          "1983",
          "1983",
          "1983",
          "1984",
          "1984",
          "1984",
          "1984",
          "1984",
          "1984",
          "1984",
          "1984",
          "1984",
          "1987",
          "1987",
          "1987",
          "1987",
          "1987",
          "1987",
          "1987",
          "1987",
          "1987",
          "1987",
          "1987",
          "1993",
          "1993",
          "1993",
          "1993",
          "1993",
          "1993",
          "1993",
          "1993",
          "1993",
          "1993",
          "1993",
          "1993",
          "1995",
          "1995",
          "1995",
          "1995",
          "1995",
          "1995",
          "1995",
          "1995",
          "1995",
          "1995",
          "1995",
          "1995",
          "1995",
          "1995",
          "1995",
          "1995",
          "1995",
          "1995",
          "1995",
          "1997",
          "1997",
          "1997",
          "1997",
          "1997",
          "1997",
          "1997",
          "1997",
          "1997",
          "1999",
          "1999",
          "1999",
          "1999",
          "1999",
          "1999",
          "1999",
          "1999",
          "1999",
          "1999",
          "2002",
          "2002",
          "2002",
          "2002",
          "2002",
          "2002",
          "2002",
          "2002",
          "2002",
          "2002",
          "2002",
          "2002",
          "2003",
          "2003",
          "2003",
          "2003",
          "2003",
          "2003",
          "2003",
          "2003",
          "2003",
          "2003",
          "2003",
          "2013",
          "2013",
          "2013",
          "2013",
          "2013",
          "2013",
          "2013",
          "2013",
          "2013",
          "2013",
          "2013",
          "2013",
          "2013",
          "2013",
          "2016",
          "2016",
          "2016",
          "2016",
          "2016",
          "2016",
          "2016"
         ],
         "xaxis": "x",
         "y": [
          0.6127450980392157,
          0.3333333333333333,
          0.5988700564971752,
          0.3867595818815331,
          0.6294642857142857,
          0.5016077170418006,
          0.4928571428571429,
          0.6310679611650486,
          0.5119047619047619,
          0.5714285714285714,
          0.6697674418604651,
          0.6756756756756757,
          0.575,
          0.6385964912280702,
          0.545045045045045,
          0.5813148788927336,
          0.6096256684491979,
          0.47706422018348627,
          0.5194805194805194,
          0.6139240506329114,
          0.545751633986928,
          0.5,
          0.5430711610486891,
          0.6121794871794872,
          0.3784530386740331,
          0.24242424242424243,
          0.6740331491712708,
          0.5284090909090909,
          0.6404494382022472,
          0.6242038216560509,
          0.5984251968503937,
          0.6890243902439024,
          0.5161290322580645,
          0.48484848484848486,
          0.7857142857142857,
          0.5135135135135135,
          0.3433333333333333,
          0.5236051502145923,
          0.4114583333333333,
          0.5209580838323353,
          0.4563953488372093,
          0.4514285714285714,
          0.5549597855227882,
          0.455012853470437,
          0.5024630541871922,
          0.3333333333333333,
          0.37777777777777777,
          0.4852941176470588,
          0.5025641025641026,
          0.37209302325581395,
          0.31620553359683795,
          0.6685714285714286,
          0.3343195266272189,
          0.5887445887445888,
          0.5187713310580204,
          0.5172413793103449,
          0.43005181347150256,
          0.5797101449275363,
          0.5371428571428571,
          0.39775910364145656,
          0.47619047619047616,
          0.42803030303030304,
          0.42105263157894735,
          0.44666666666666666,
          0.7678571428571429,
          0.4175824175824176,
          0.5303867403314917,
          0.6564625850340136,
          0.7384615384615385,
          0.3292079207920792,
          0.4088888888888889,
          0.5626740947075209,
          0.4873096446700508,
          0.4742268041237113,
          0.07741935483870968,
          0.44212523719165087,
          0.36451612903225805,
          0.2534246575342466,
          0.24705882352941178,
          0.4519906323185012,
          0.31141868512110726,
          0.30601092896174864,
          0.4950980392156863,
          0.3130252100840336,
          0.32894736842105265,
          0.2860696517412935,
          0.242152466367713,
          0.41232227488151657,
          0.3181818181818182,
          1,
          0.9230769230769231,
          0.3282828282828283,
          0.5949367088607594,
          0.64,
          0.4153846153846154,
          1,
          0.5384615384615384,
          1,
          1,
          0.5555555555555556,
          0.47023809523809523,
          0.4525862068965517,
          0.35661764705882354,
          0.45867768595041325,
          0.5085470085470085,
          0.5,
          1,
          1,
          1,
          0.4563106796116505,
          0.5445026178010471,
          0.3333333333333333,
          0.5459459459459459,
          0.3755656108597285,
          0.6198830409356725,
          0.35294117647058826,
          0.4491017964071856,
          0.4965986394557823,
          0.5120481927710844,
          0.41708542713567837,
          0.7157360406091371,
          0.4473684210526316,
          0.44075829383886256,
          0.5305343511450382,
          0.2996632996632997,
          0.6182795698924731,
          0.4524714828897338,
          0.43548387096774194,
          0.49528301886792453,
          0.6762589928057554,
          0.20821114369501467,
          0.398406374501992,
          0.3305785123966942,
          0.625,
          0.3942652329749104,
          0.44017094017094016,
          0.29754601226993865,
          0.34507042253521125,
          0.42857142857142855,
          0.31718061674008813,
          0.726027397260274,
          0.47107438016528924,
          0.6258992805755396,
          0.38666666666666666,
          0.471976401179941,
          0.3448275862068966,
          0.5,
          0.3798076923076923,
          0.4,
          0.29461756373937675,
          0.48,
          0.4426229508196721,
          0.43103448275862066,
          0.45268542199488493,
          0.5055350553505535,
          0.36,
          0.3333333333333333,
          0.5478260869565217,
          0.40816326530612246,
          1,
          0.5779816513761468,
          1,
          0.44375,
          0.3131868131868132,
          0.4073107049608355,
          0.3062200956937799,
          0.552,
          0.5,
          0.36555891238670696,
          0.22676579925650558,
          0.7441860465116279,
          0.3133047210300429,
          0.4260089686098655,
          0.5231788079470199,
          0.2934131736526946,
          0.7933884297520661,
          0.49640287769784175,
          0.3639705882352941,
          0.7575757575757576,
          0.515695067264574,
          0.65625,
          0.36538461538461536,
          0.29553264604810997,
          0.5275590551181102,
          0.7166666666666667,
          0.35428571428571426,
          0.5837837837837838,
          0.3298611111111111,
          0.41545893719806765,
          0.23166023166023167,
          0.2875,
          0.3389121338912134,
          0.47580645161290325,
          0.26973684210526316,
          0.3228346456692913,
          0.25,
          0.17275747508305647,
          0.1557632398753894,
          0.6521739130434783,
          0.41125541125541126,
          0.46551724137931033,
          0.569620253164557,
          0.34415584415584416,
          0.40641711229946526,
          0.39215686274509803,
          0.2513089005235602,
          0.2127659574468085,
          1,
          0.46296296296296297,
          0.3417085427135678,
          0.8305084745762712,
          0.5304878048780488,
          0.4074074074074074,
          0.533678756476684,
          0.4375,
          0.47096774193548385,
          0.36,
          0.3858695652173913,
          0.4337899543378995,
          0.5510204081632653,
          0.5024154589371981,
          0.33613445378151263,
          0.2575,
          0.2992125984251969,
          0.40181268882175225,
          0.6375,
          0.3670886075949367,
          0.30787037037037035,
          0.3395348837209302,
          0.4966442953020134,
          0.3945945945945946,
          0.3316062176165803,
          0.4019607843137255,
          0.25901639344262295,
          0.6,
          0.42207792207792205,
          0.425414364640884,
          0.4583333333333333,
          0.41762452107279696,
          0.5058823529411764,
          0.46153846153846156,
          0.40425531914893614,
          0.49800796812749004,
          0.44680851063829785,
          0.3348623853211009,
          0.36829268292682926,
          0.34306569343065696,
          0.5887096774193549,
          0.6357615894039735,
          0.3617021276595745,
          0.3811881188118812,
          0.3146853146853147
         ],
         "yaxis": "y"
        }
       ],
       "layout": {
        "legend": {
         "tracegroupgap": 0
        },
        "template": {
         "data": {
          "bar": [
           {
            "error_x": {
             "color": "#2a3f5f"
            },
            "error_y": {
             "color": "#2a3f5f"
            },
            "marker": {
             "line": {
              "color": "#E5ECF6",
              "width": 0.5
             },
             "pattern": {
              "fillmode": "overlay",
              "size": 10,
              "solidity": 0.2
             }
            },
            "type": "bar"
           }
          ],
          "barpolar": [
           {
            "marker": {
             "line": {
              "color": "#E5ECF6",
              "width": 0.5
             },
             "pattern": {
              "fillmode": "overlay",
              "size": 10,
              "solidity": 0.2
             }
            },
            "type": "barpolar"
           }
          ],
          "carpet": [
           {
            "aaxis": {
             "endlinecolor": "#2a3f5f",
             "gridcolor": "white",
             "linecolor": "white",
             "minorgridcolor": "white",
             "startlinecolor": "#2a3f5f"
            },
            "baxis": {
             "endlinecolor": "#2a3f5f",
             "gridcolor": "white",
             "linecolor": "white",
             "minorgridcolor": "white",
             "startlinecolor": "#2a3f5f"
            },
            "type": "carpet"
           }
          ],
          "choropleth": [
           {
            "colorbar": {
             "outlinewidth": 0,
             "ticks": ""
            },
            "type": "choropleth"
           }
          ],
          "contour": [
           {
            "colorbar": {
             "outlinewidth": 0,
             "ticks": ""
            },
            "colorscale": [
             [
              0,
              "#0d0887"
             ],
             [
              0.1111111111111111,
              "#46039f"
             ],
             [
              0.2222222222222222,
              "#7201a8"
             ],
             [
              0.3333333333333333,
              "#9c179e"
             ],
             [
              0.4444444444444444,
              "#bd3786"
             ],
             [
              0.5555555555555556,
              "#d8576b"
             ],
             [
              0.6666666666666666,
              "#ed7953"
             ],
             [
              0.7777777777777778,
              "#fb9f3a"
             ],
             [
              0.8888888888888888,
              "#fdca26"
             ],
             [
              1,
              "#f0f921"
             ]
            ],
            "type": "contour"
           }
          ],
          "contourcarpet": [
           {
            "colorbar": {
             "outlinewidth": 0,
             "ticks": ""
            },
            "type": "contourcarpet"
           }
          ],
          "heatmap": [
           {
            "colorbar": {
             "outlinewidth": 0,
             "ticks": ""
            },
            "colorscale": [
             [
              0,
              "#0d0887"
             ],
             [
              0.1111111111111111,
              "#46039f"
             ],
             [
              0.2222222222222222,
              "#7201a8"
             ],
             [
              0.3333333333333333,
              "#9c179e"
             ],
             [
              0.4444444444444444,
              "#bd3786"
             ],
             [
              0.5555555555555556,
              "#d8576b"
             ],
             [
              0.6666666666666666,
              "#ed7953"
             ],
             [
              0.7777777777777778,
              "#fb9f3a"
             ],
             [
              0.8888888888888888,
              "#fdca26"
             ],
             [
              1,
              "#f0f921"
             ]
            ],
            "type": "heatmap"
           }
          ],
          "heatmapgl": [
           {
            "colorbar": {
             "outlinewidth": 0,
             "ticks": ""
            },
            "colorscale": [
             [
              0,
              "#0d0887"
             ],
             [
              0.1111111111111111,
              "#46039f"
             ],
             [
              0.2222222222222222,
              "#7201a8"
             ],
             [
              0.3333333333333333,
              "#9c179e"
             ],
             [
              0.4444444444444444,
              "#bd3786"
             ],
             [
              0.5555555555555556,
              "#d8576b"
             ],
             [
              0.6666666666666666,
              "#ed7953"
             ],
             [
              0.7777777777777778,
              "#fb9f3a"
             ],
             [
              0.8888888888888888,
              "#fdca26"
             ],
             [
              1,
              "#f0f921"
             ]
            ],
            "type": "heatmapgl"
           }
          ],
          "histogram": [
           {
            "marker": {
             "pattern": {
              "fillmode": "overlay",
              "size": 10,
              "solidity": 0.2
             }
            },
            "type": "histogram"
           }
          ],
          "histogram2d": [
           {
            "colorbar": {
             "outlinewidth": 0,
             "ticks": ""
            },
            "colorscale": [
             [
              0,
              "#0d0887"
             ],
             [
              0.1111111111111111,
              "#46039f"
             ],
             [
              0.2222222222222222,
              "#7201a8"
             ],
             [
              0.3333333333333333,
              "#9c179e"
             ],
             [
              0.4444444444444444,
              "#bd3786"
             ],
             [
              0.5555555555555556,
              "#d8576b"
             ],
             [
              0.6666666666666666,
              "#ed7953"
             ],
             [
              0.7777777777777778,
              "#fb9f3a"
             ],
             [
              0.8888888888888888,
              "#fdca26"
             ],
             [
              1,
              "#f0f921"
             ]
            ],
            "type": "histogram2d"
           }
          ],
          "histogram2dcontour": [
           {
            "colorbar": {
             "outlinewidth": 0,
             "ticks": ""
            },
            "colorscale": [
             [
              0,
              "#0d0887"
             ],
             [
              0.1111111111111111,
              "#46039f"
             ],
             [
              0.2222222222222222,
              "#7201a8"
             ],
             [
              0.3333333333333333,
              "#9c179e"
             ],
             [
              0.4444444444444444,
              "#bd3786"
             ],
             [
              0.5555555555555556,
              "#d8576b"
             ],
             [
              0.6666666666666666,
              "#ed7953"
             ],
             [
              0.7777777777777778,
              "#fb9f3a"
             ],
             [
              0.8888888888888888,
              "#fdca26"
             ],
             [
              1,
              "#f0f921"
             ]
            ],
            "type": "histogram2dcontour"
           }
          ],
          "mesh3d": [
           {
            "colorbar": {
             "outlinewidth": 0,
             "ticks": ""
            },
            "type": "mesh3d"
           }
          ],
          "parcoords": [
           {
            "line": {
             "colorbar": {
              "outlinewidth": 0,
              "ticks": ""
             }
            },
            "type": "parcoords"
           }
          ],
          "pie": [
           {
            "automargin": true,
            "type": "pie"
           }
          ],
          "scatter": [
           {
            "marker": {
             "colorbar": {
              "outlinewidth": 0,
              "ticks": ""
             }
            },
            "type": "scatter"
           }
          ],
          "scatter3d": [
           {
            "line": {
             "colorbar": {
              "outlinewidth": 0,
              "ticks": ""
             }
            },
            "marker": {
             "colorbar": {
              "outlinewidth": 0,
              "ticks": ""
             }
            },
            "type": "scatter3d"
           }
          ],
          "scattercarpet": [
           {
            "marker": {
             "colorbar": {
              "outlinewidth": 0,
              "ticks": ""
             }
            },
            "type": "scattercarpet"
           }
          ],
          "scattergeo": [
           {
            "marker": {
             "colorbar": {
              "outlinewidth": 0,
              "ticks": ""
             }
            },
            "type": "scattergeo"
           }
          ],
          "scattergl": [
           {
            "marker": {
             "colorbar": {
              "outlinewidth": 0,
              "ticks": ""
             }
            },
            "type": "scattergl"
           }
          ],
          "scattermapbox": [
           {
            "marker": {
             "colorbar": {
              "outlinewidth": 0,
              "ticks": ""
             }
            },
            "type": "scattermapbox"
           }
          ],
          "scatterpolar": [
           {
            "marker": {
             "colorbar": {
              "outlinewidth": 0,
              "ticks": ""
             }
            },
            "type": "scatterpolar"
           }
          ],
          "scatterpolargl": [
           {
            "marker": {
             "colorbar": {
              "outlinewidth": 0,
              "ticks": ""
             }
            },
            "type": "scatterpolargl"
           }
          ],
          "scatterternary": [
           {
            "marker": {
             "colorbar": {
              "outlinewidth": 0,
              "ticks": ""
             }
            },
            "type": "scatterternary"
           }
          ],
          "surface": [
           {
            "colorbar": {
             "outlinewidth": 0,
             "ticks": ""
            },
            "colorscale": [
             [
              0,
              "#0d0887"
             ],
             [
              0.1111111111111111,
              "#46039f"
             ],
             [
              0.2222222222222222,
              "#7201a8"
             ],
             [
              0.3333333333333333,
              "#9c179e"
             ],
             [
              0.4444444444444444,
              "#bd3786"
             ],
             [
              0.5555555555555556,
              "#d8576b"
             ],
             [
              0.6666666666666666,
              "#ed7953"
             ],
             [
              0.7777777777777778,
              "#fb9f3a"
             ],
             [
              0.8888888888888888,
              "#fdca26"
             ],
             [
              1,
              "#f0f921"
             ]
            ],
            "type": "surface"
           }
          ],
          "table": [
           {
            "cells": {
             "fill": {
              "color": "#EBF0F8"
             },
             "line": {
              "color": "white"
             }
            },
            "header": {
             "fill": {
              "color": "#C8D4E3"
             },
             "line": {
              "color": "white"
             }
            },
            "type": "table"
           }
          ]
         },
         "layout": {
          "annotationdefaults": {
           "arrowcolor": "#2a3f5f",
           "arrowhead": 0,
           "arrowwidth": 1
          },
          "autotypenumbers": "strict",
          "coloraxis": {
           "colorbar": {
            "outlinewidth": 0,
            "ticks": ""
           }
          },
          "colorscale": {
           "diverging": [
            [
             0,
             "#8e0152"
            ],
            [
             0.1,
             "#c51b7d"
            ],
            [
             0.2,
             "#de77ae"
            ],
            [
             0.3,
             "#f1b6da"
            ],
            [
             0.4,
             "#fde0ef"
            ],
            [
             0.5,
             "#f7f7f7"
            ],
            [
             0.6,
             "#e6f5d0"
            ],
            [
             0.7,
             "#b8e186"
            ],
            [
             0.8,
             "#7fbc41"
            ],
            [
             0.9,
             "#4d9221"
            ],
            [
             1,
             "#276419"
            ]
           ],
           "sequential": [
            [
             0,
             "#0d0887"
            ],
            [
             0.1111111111111111,
             "#46039f"
            ],
            [
             0.2222222222222222,
             "#7201a8"
            ],
            [
             0.3333333333333333,
             "#9c179e"
            ],
            [
             0.4444444444444444,
             "#bd3786"
            ],
            [
             0.5555555555555556,
             "#d8576b"
            ],
            [
             0.6666666666666666,
             "#ed7953"
            ],
            [
             0.7777777777777778,
             "#fb9f3a"
            ],
            [
             0.8888888888888888,
             "#fdca26"
            ],
            [
             1,
             "#f0f921"
            ]
           ],
           "sequentialminus": [
            [
             0,
             "#0d0887"
            ],
            [
             0.1111111111111111,
             "#46039f"
            ],
            [
             0.2222222222222222,
             "#7201a8"
            ],
            [
             0.3333333333333333,
             "#9c179e"
            ],
            [
             0.4444444444444444,
             "#bd3786"
            ],
            [
             0.5555555555555556,
             "#d8576b"
            ],
            [
             0.6666666666666666,
             "#ed7953"
            ],
            [
             0.7777777777777778,
             "#fb9f3a"
            ],
            [
             0.8888888888888888,
             "#fdca26"
            ],
            [
             1,
             "#f0f921"
            ]
           ]
          },
          "colorway": [
           "#636efa",
           "#EF553B",
           "#00cc96",
           "#ab63fa",
           "#FFA15A",
           "#19d3f3",
           "#FF6692",
           "#B6E880",
           "#FF97FF",
           "#FECB52"
          ],
          "font": {
           "color": "#2a3f5f"
          },
          "geo": {
           "bgcolor": "white",
           "lakecolor": "white",
           "landcolor": "#E5ECF6",
           "showlakes": true,
           "showland": true,
           "subunitcolor": "white"
          },
          "hoverlabel": {
           "align": "left"
          },
          "hovermode": "closest",
          "mapbox": {
           "style": "light"
          },
          "paper_bgcolor": "white",
          "plot_bgcolor": "#E5ECF6",
          "polar": {
           "angularaxis": {
            "gridcolor": "white",
            "linecolor": "white",
            "ticks": ""
           },
           "bgcolor": "#E5ECF6",
           "radialaxis": {
            "gridcolor": "white",
            "linecolor": "white",
            "ticks": ""
           }
          },
          "scene": {
           "xaxis": {
            "backgroundcolor": "#E5ECF6",
            "gridcolor": "white",
            "gridwidth": 2,
            "linecolor": "white",
            "showbackground": true,
            "ticks": "",
            "zerolinecolor": "white"
           },
           "yaxis": {
            "backgroundcolor": "#E5ECF6",
            "gridcolor": "white",
            "gridwidth": 2,
            "linecolor": "white",
            "showbackground": true,
            "ticks": "",
            "zerolinecolor": "white"
           },
           "zaxis": {
            "backgroundcolor": "#E5ECF6",
            "gridcolor": "white",
            "gridwidth": 2,
            "linecolor": "white",
            "showbackground": true,
            "ticks": "",
            "zerolinecolor": "white"
           }
          },
          "shapedefaults": {
           "line": {
            "color": "#2a3f5f"
           }
          },
          "ternary": {
           "aaxis": {
            "gridcolor": "white",
            "linecolor": "white",
            "ticks": ""
           },
           "baxis": {
            "gridcolor": "white",
            "linecolor": "white",
            "ticks": ""
           },
           "bgcolor": "#E5ECF6",
           "caxis": {
            "gridcolor": "white",
            "linecolor": "white",
            "ticks": ""
           }
          },
          "title": {
           "x": 0.05
          },
          "xaxis": {
           "automargin": true,
           "gridcolor": "white",
           "linecolor": "white",
           "ticks": "",
           "title": {
            "standoff": 15
           },
           "zerolinecolor": "white",
           "zerolinewidth": 2
          },
          "yaxis": {
           "automargin": true,
           "gridcolor": "white",
           "linecolor": "white",
           "ticks": "",
           "title": {
            "standoff": 15
           },
           "zerolinecolor": "white",
           "zerolinewidth": 2
          }
         }
        },
        "title": {
         "text": "Word Count Over Time"
        },
        "xaxis": {
         "anchor": "y",
         "domain": [
          0,
          1
         ],
         "title": {
          "text": "Year"
         }
        },
        "yaxis": {
         "anchor": "x",
         "domain": [
          0,
          1
         ],
         "title": {
          "text": "Percent Unique"
         }
        }
       }
      },
      "text/html": [
       "<div>                            <div id=\"500b04b6-9a23-49a4-951d-c0dc3aba17f3\" class=\"plotly-graph-div\" style=\"height:525px; width:100%;\"></div>            <script type=\"text/javascript\">                require([\"plotly\"], function(Plotly) {                    window.PLOTLYENV=window.PLOTLYENV || {};                                    if (document.getElementById(\"500b04b6-9a23-49a4-951d-c0dc3aba17f3\")) {                    Plotly.newPlot(                        \"500b04b6-9a23-49a4-951d-c0dc3aba17f3\",                        [{\"hovertemplate\":\"Year=%{x}<br>Percent Unique=%{y}<extra></extra>\",\"legendgroup\":\"\",\"marker\":{\"color\":\"#636efa\",\"symbol\":\"circle\"},\"mode\":\"markers\",\"name\":\"\",\"orientation\":\"v\",\"showlegend\":false,\"x\":[\"1967\",\"1967\",\"1967\",\"1967\",\"1967\",\"1967\",\"1967\",\"1967\",\"1967\",\"1967\",\"1967\",\"1967\",\"1967\",\"1967\",\"1969\",\"1969\",\"1969\",\"1969\",\"1969\",\"1969\",\"1969\",\"1969\",\"1969\",\"1970\",\"1970\",\"1970\",\"1970\",\"1970\",\"1970\",\"1970\",\"1970\",\"1970\",\"1971\",\"1971\",\"1971\",\"1971\",\"1971\",\"1971\",\"1971\",\"1971\",\"1971\",\"1971\",\"1971\",\"1972\",\"1972\",\"1972\",\"1972\",\"1972\",\"1972\",\"1972\",\"1972\",\"1972\",\"1972\",\"1972\",\"1973\",\"1973\",\"1973\",\"1973\",\"1973\",\"1973\",\"1973\",\"1973\",\"1973\",\"1973\",\"1974\",\"1974\",\"1974\",\"1974\",\"1974\",\"1974\",\"1974\",\"1974\",\"1974\",\"1974\",\"1974\",\"1975\",\"1975\",\"1975\",\"1975\",\"1975\",\"1975\",\"1975\",\"1975\",\"1976\",\"1976\",\"1976\",\"1976\",\"1976\",\"1976\",\"1977a\",\"1977a\",\"1977a\",\"1977a\",\"1977a\",\"1977a\",\"1977a\",\"1977a\",\"1977a\",\"1977a\",\"1977a\",\"1977b\",\"1977b\",\"1977b\",\"1977b\",\"1977b\",\"1977b\",\"1977b\",\"1977b\",\"1977b\",\"1977b\",\"1979\",\"1979\",\"1979\",\"1979\",\"1979\",\"1979\",\"1979\",\"1979\",\"1979\",\"1979\",\"1980\",\"1980\",\"1980\",\"1980\",\"1980\",\"1980\",\"1980\",\"1980\",\"1980\",\"1980\",\"1983\",\"1983\",\"1983\",\"1983\",\"1983\",\"1983\",\"1983\",\"1983\",\"1984\",\"1984\",\"1984\",\"1984\",\"1984\",\"1984\",\"1984\",\"1984\",\"1984\",\"1987\",\"1987\",\"1987\",\"1987\",\"1987\",\"1987\",\"1987\",\"1987\",\"1987\",\"1987\",\"1987\",\"1993\",\"1993\",\"1993\",\"1993\",\"1993\",\"1993\",\"1993\",\"1993\",\"1993\",\"1993\",\"1993\",\"1993\",\"1995\",\"1995\",\"1995\",\"1995\",\"1995\",\"1995\",\"1995\",\"1995\",\"1995\",\"1995\",\"1995\",\"1995\",\"1995\",\"1995\",\"1995\",\"1995\",\"1995\",\"1995\",\"1995\",\"1997\",\"1997\",\"1997\",\"1997\",\"1997\",\"1997\",\"1997\",\"1997\",\"1997\",\"1999\",\"1999\",\"1999\",\"1999\",\"1999\",\"1999\",\"1999\",\"1999\",\"1999\",\"1999\",\"2002\",\"2002\",\"2002\",\"2002\",\"2002\",\"2002\",\"2002\",\"2002\",\"2002\",\"2002\",\"2002\",\"2002\",\"2003\",\"2003\",\"2003\",\"2003\",\"2003\",\"2003\",\"2003\",\"2003\",\"2003\",\"2003\",\"2003\",\"2013\",\"2013\",\"2013\",\"2013\",\"2013\",\"2013\",\"2013\",\"2013\",\"2013\",\"2013\",\"2013\",\"2013\",\"2013\",\"2013\",\"2016\",\"2016\",\"2016\",\"2016\",\"2016\",\"2016\",\"2016\"],\"xaxis\":\"x\",\"y\":[0.6127450980392157,0.3333333333333333,0.5988700564971752,0.3867595818815331,0.6294642857142857,0.5016077170418006,0.4928571428571429,0.6310679611650486,0.5119047619047619,0.5714285714285714,0.6697674418604651,0.6756756756756757,0.575,0.6385964912280702,0.545045045045045,0.5813148788927336,0.6096256684491979,0.47706422018348627,0.5194805194805194,0.6139240506329114,0.545751633986928,0.5,0.5430711610486891,0.6121794871794872,0.3784530386740331,0.24242424242424243,0.6740331491712708,0.5284090909090909,0.6404494382022472,0.6242038216560509,0.5984251968503937,0.6890243902439024,0.5161290322580645,0.48484848484848486,0.7857142857142857,0.5135135135135135,0.3433333333333333,0.5236051502145923,0.4114583333333333,0.5209580838323353,0.4563953488372093,0.4514285714285714,0.5549597855227882,0.455012853470437,0.5024630541871922,0.3333333333333333,0.37777777777777777,0.4852941176470588,0.5025641025641026,0.37209302325581395,0.31620553359683795,0.6685714285714286,0.3343195266272189,0.5887445887445888,0.5187713310580204,0.5172413793103449,0.43005181347150256,0.5797101449275363,0.5371428571428571,0.39775910364145656,0.47619047619047616,0.42803030303030304,0.42105263157894735,0.44666666666666666,0.7678571428571429,0.4175824175824176,0.5303867403314917,0.6564625850340136,0.7384615384615385,0.3292079207920792,0.4088888888888889,0.5626740947075209,0.4873096446700508,0.4742268041237113,0.07741935483870968,0.44212523719165087,0.36451612903225805,0.2534246575342466,0.24705882352941178,0.4519906323185012,0.31141868512110726,0.30601092896174864,0.4950980392156863,0.3130252100840336,0.32894736842105265,0.2860696517412935,0.242152466367713,0.41232227488151657,0.3181818181818182,1.0,0.9230769230769231,0.3282828282828283,0.5949367088607594,0.64,0.4153846153846154,1.0,0.5384615384615384,1.0,1.0,0.5555555555555556,0.47023809523809523,0.4525862068965517,0.35661764705882354,0.45867768595041325,0.5085470085470085,0.5,1.0,1.0,1.0,0.4563106796116505,0.5445026178010471,0.3333333333333333,0.5459459459459459,0.3755656108597285,0.6198830409356725,0.35294117647058826,0.4491017964071856,0.4965986394557823,0.5120481927710844,0.41708542713567837,0.7157360406091371,0.4473684210526316,0.44075829383886256,0.5305343511450382,0.2996632996632997,0.6182795698924731,0.4524714828897338,0.43548387096774194,0.49528301886792453,0.6762589928057554,0.20821114369501467,0.398406374501992,0.3305785123966942,0.625,0.3942652329749104,0.44017094017094016,0.29754601226993865,0.34507042253521125,0.42857142857142855,0.31718061674008813,0.726027397260274,0.47107438016528924,0.6258992805755396,0.38666666666666666,0.471976401179941,0.3448275862068966,0.5,0.3798076923076923,0.4,0.29461756373937675,0.48,0.4426229508196721,0.43103448275862066,0.45268542199488493,0.5055350553505535,0.36,0.3333333333333333,0.5478260869565217,0.40816326530612246,1.0,0.5779816513761468,1.0,0.44375,0.3131868131868132,0.4073107049608355,0.3062200956937799,0.552,0.5,0.36555891238670696,0.22676579925650558,0.7441860465116279,0.3133047210300429,0.4260089686098655,0.5231788079470199,0.2934131736526946,0.7933884297520661,0.49640287769784175,0.3639705882352941,0.7575757575757576,0.515695067264574,0.65625,0.36538461538461536,0.29553264604810997,0.5275590551181102,0.7166666666666667,0.35428571428571426,0.5837837837837838,0.3298611111111111,0.41545893719806765,0.23166023166023167,0.2875,0.3389121338912134,0.47580645161290325,0.26973684210526316,0.3228346456692913,0.25,0.17275747508305647,0.1557632398753894,0.6521739130434783,0.41125541125541126,0.46551724137931033,0.569620253164557,0.34415584415584416,0.40641711229946526,0.39215686274509803,0.2513089005235602,0.2127659574468085,1.0,0.46296296296296297,0.3417085427135678,0.8305084745762712,0.5304878048780488,0.4074074074074074,0.533678756476684,0.4375,0.47096774193548385,0.36,0.3858695652173913,0.4337899543378995,0.5510204081632653,0.5024154589371981,0.33613445378151263,0.2575,0.2992125984251969,0.40181268882175225,0.6375,0.3670886075949367,0.30787037037037035,0.3395348837209302,0.4966442953020134,0.3945945945945946,0.3316062176165803,0.4019607843137255,0.25901639344262295,0.6,0.42207792207792205,0.425414364640884,0.4583333333333333,0.41762452107279696,0.5058823529411764,0.46153846153846156,0.40425531914893614,0.49800796812749004,0.44680851063829785,0.3348623853211009,0.36829268292682926,0.34306569343065696,0.5887096774193549,0.6357615894039735,0.3617021276595745,0.3811881188118812,0.3146853146853147],\"yaxis\":\"y\",\"type\":\"scatter\"}],                        {\"template\":{\"data\":{\"bar\":[{\"error_x\":{\"color\":\"#2a3f5f\"},\"error_y\":{\"color\":\"#2a3f5f\"},\"marker\":{\"line\":{\"color\":\"#E5ECF6\",\"width\":0.5},\"pattern\":{\"fillmode\":\"overlay\",\"size\":10,\"solidity\":0.2}},\"type\":\"bar\"}],\"barpolar\":[{\"marker\":{\"line\":{\"color\":\"#E5ECF6\",\"width\":0.5},\"pattern\":{\"fillmode\":\"overlay\",\"size\":10,\"solidity\":0.2}},\"type\":\"barpolar\"}],\"carpet\":[{\"aaxis\":{\"endlinecolor\":\"#2a3f5f\",\"gridcolor\":\"white\",\"linecolor\":\"white\",\"minorgridcolor\":\"white\",\"startlinecolor\":\"#2a3f5f\"},\"baxis\":{\"endlinecolor\":\"#2a3f5f\",\"gridcolor\":\"white\",\"linecolor\":\"white\",\"minorgridcolor\":\"white\",\"startlinecolor\":\"#2a3f5f\"},\"type\":\"carpet\"}],\"choropleth\":[{\"colorbar\":{\"outlinewidth\":0,\"ticks\":\"\"},\"type\":\"choropleth\"}],\"contour\":[{\"colorbar\":{\"outlinewidth\":0,\"ticks\":\"\"},\"colorscale\":[[0.0,\"#0d0887\"],[0.1111111111111111,\"#46039f\"],[0.2222222222222222,\"#7201a8\"],[0.3333333333333333,\"#9c179e\"],[0.4444444444444444,\"#bd3786\"],[0.5555555555555556,\"#d8576b\"],[0.6666666666666666,\"#ed7953\"],[0.7777777777777778,\"#fb9f3a\"],[0.8888888888888888,\"#fdca26\"],[1.0,\"#f0f921\"]],\"type\":\"contour\"}],\"contourcarpet\":[{\"colorbar\":{\"outlinewidth\":0,\"ticks\":\"\"},\"type\":\"contourcarpet\"}],\"heatmap\":[{\"colorbar\":{\"outlinewidth\":0,\"ticks\":\"\"},\"colorscale\":[[0.0,\"#0d0887\"],[0.1111111111111111,\"#46039f\"],[0.2222222222222222,\"#7201a8\"],[0.3333333333333333,\"#9c179e\"],[0.4444444444444444,\"#bd3786\"],[0.5555555555555556,\"#d8576b\"],[0.6666666666666666,\"#ed7953\"],[0.7777777777777778,\"#fb9f3a\"],[0.8888888888888888,\"#fdca26\"],[1.0,\"#f0f921\"]],\"type\":\"heatmap\"}],\"heatmapgl\":[{\"colorbar\":{\"outlinewidth\":0,\"ticks\":\"\"},\"colorscale\":[[0.0,\"#0d0887\"],[0.1111111111111111,\"#46039f\"],[0.2222222222222222,\"#7201a8\"],[0.3333333333333333,\"#9c179e\"],[0.4444444444444444,\"#bd3786\"],[0.5555555555555556,\"#d8576b\"],[0.6666666666666666,\"#ed7953\"],[0.7777777777777778,\"#fb9f3a\"],[0.8888888888888888,\"#fdca26\"],[1.0,\"#f0f921\"]],\"type\":\"heatmapgl\"}],\"histogram\":[{\"marker\":{\"pattern\":{\"fillmode\":\"overlay\",\"size\":10,\"solidity\":0.2}},\"type\":\"histogram\"}],\"histogram2d\":[{\"colorbar\":{\"outlinewidth\":0,\"ticks\":\"\"},\"colorscale\":[[0.0,\"#0d0887\"],[0.1111111111111111,\"#46039f\"],[0.2222222222222222,\"#7201a8\"],[0.3333333333333333,\"#9c179e\"],[0.4444444444444444,\"#bd3786\"],[0.5555555555555556,\"#d8576b\"],[0.6666666666666666,\"#ed7953\"],[0.7777777777777778,\"#fb9f3a\"],[0.8888888888888888,\"#fdca26\"],[1.0,\"#f0f921\"]],\"type\":\"histogram2d\"}],\"histogram2dcontour\":[{\"colorbar\":{\"outlinewidth\":0,\"ticks\":\"\"},\"colorscale\":[[0.0,\"#0d0887\"],[0.1111111111111111,\"#46039f\"],[0.2222222222222222,\"#7201a8\"],[0.3333333333333333,\"#9c179e\"],[0.4444444444444444,\"#bd3786\"],[0.5555555555555556,\"#d8576b\"],[0.6666666666666666,\"#ed7953\"],[0.7777777777777778,\"#fb9f3a\"],[0.8888888888888888,\"#fdca26\"],[1.0,\"#f0f921\"]],\"type\":\"histogram2dcontour\"}],\"mesh3d\":[{\"colorbar\":{\"outlinewidth\":0,\"ticks\":\"\"},\"type\":\"mesh3d\"}],\"parcoords\":[{\"line\":{\"colorbar\":{\"outlinewidth\":0,\"ticks\":\"\"}},\"type\":\"parcoords\"}],\"pie\":[{\"automargin\":true,\"type\":\"pie\"}],\"scatter\":[{\"marker\":{\"colorbar\":{\"outlinewidth\":0,\"ticks\":\"\"}},\"type\":\"scatter\"}],\"scatter3d\":[{\"line\":{\"colorbar\":{\"outlinewidth\":0,\"ticks\":\"\"}},\"marker\":{\"colorbar\":{\"outlinewidth\":0,\"ticks\":\"\"}},\"type\":\"scatter3d\"}],\"scattercarpet\":[{\"marker\":{\"colorbar\":{\"outlinewidth\":0,\"ticks\":\"\"}},\"type\":\"scattercarpet\"}],\"scattergeo\":[{\"marker\":{\"colorbar\":{\"outlinewidth\":0,\"ticks\":\"\"}},\"type\":\"scattergeo\"}],\"scattergl\":[{\"marker\":{\"colorbar\":{\"outlinewidth\":0,\"ticks\":\"\"}},\"type\":\"scattergl\"}],\"scattermapbox\":[{\"marker\":{\"colorbar\":{\"outlinewidth\":0,\"ticks\":\"\"}},\"type\":\"scattermapbox\"}],\"scatterpolar\":[{\"marker\":{\"colorbar\":{\"outlinewidth\":0,\"ticks\":\"\"}},\"type\":\"scatterpolar\"}],\"scatterpolargl\":[{\"marker\":{\"colorbar\":{\"outlinewidth\":0,\"ticks\":\"\"}},\"type\":\"scatterpolargl\"}],\"scatterternary\":[{\"marker\":{\"colorbar\":{\"outlinewidth\":0,\"ticks\":\"\"}},\"type\":\"scatterternary\"}],\"surface\":[{\"colorbar\":{\"outlinewidth\":0,\"ticks\":\"\"},\"colorscale\":[[0.0,\"#0d0887\"],[0.1111111111111111,\"#46039f\"],[0.2222222222222222,\"#7201a8\"],[0.3333333333333333,\"#9c179e\"],[0.4444444444444444,\"#bd3786\"],[0.5555555555555556,\"#d8576b\"],[0.6666666666666666,\"#ed7953\"],[0.7777777777777778,\"#fb9f3a\"],[0.8888888888888888,\"#fdca26\"],[1.0,\"#f0f921\"]],\"type\":\"surface\"}],\"table\":[{\"cells\":{\"fill\":{\"color\":\"#EBF0F8\"},\"line\":{\"color\":\"white\"}},\"header\":{\"fill\":{\"color\":\"#C8D4E3\"},\"line\":{\"color\":\"white\"}},\"type\":\"table\"}]},\"layout\":{\"annotationdefaults\":{\"arrowcolor\":\"#2a3f5f\",\"arrowhead\":0,\"arrowwidth\":1},\"autotypenumbers\":\"strict\",\"coloraxis\":{\"colorbar\":{\"outlinewidth\":0,\"ticks\":\"\"}},\"colorscale\":{\"diverging\":[[0,\"#8e0152\"],[0.1,\"#c51b7d\"],[0.2,\"#de77ae\"],[0.3,\"#f1b6da\"],[0.4,\"#fde0ef\"],[0.5,\"#f7f7f7\"],[0.6,\"#e6f5d0\"],[0.7,\"#b8e186\"],[0.8,\"#7fbc41\"],[0.9,\"#4d9221\"],[1,\"#276419\"]],\"sequential\":[[0.0,\"#0d0887\"],[0.1111111111111111,\"#46039f\"],[0.2222222222222222,\"#7201a8\"],[0.3333333333333333,\"#9c179e\"],[0.4444444444444444,\"#bd3786\"],[0.5555555555555556,\"#d8576b\"],[0.6666666666666666,\"#ed7953\"],[0.7777777777777778,\"#fb9f3a\"],[0.8888888888888888,\"#fdca26\"],[1.0,\"#f0f921\"]],\"sequentialminus\":[[0.0,\"#0d0887\"],[0.1111111111111111,\"#46039f\"],[0.2222222222222222,\"#7201a8\"],[0.3333333333333333,\"#9c179e\"],[0.4444444444444444,\"#bd3786\"],[0.5555555555555556,\"#d8576b\"],[0.6666666666666666,\"#ed7953\"],[0.7777777777777778,\"#fb9f3a\"],[0.8888888888888888,\"#fdca26\"],[1.0,\"#f0f921\"]]},\"colorway\":[\"#636efa\",\"#EF553B\",\"#00cc96\",\"#ab63fa\",\"#FFA15A\",\"#19d3f3\",\"#FF6692\",\"#B6E880\",\"#FF97FF\",\"#FECB52\"],\"font\":{\"color\":\"#2a3f5f\"},\"geo\":{\"bgcolor\":\"white\",\"lakecolor\":\"white\",\"landcolor\":\"#E5ECF6\",\"showlakes\":true,\"showland\":true,\"subunitcolor\":\"white\"},\"hoverlabel\":{\"align\":\"left\"},\"hovermode\":\"closest\",\"mapbox\":{\"style\":\"light\"},\"paper_bgcolor\":\"white\",\"plot_bgcolor\":\"#E5ECF6\",\"polar\":{\"angularaxis\":{\"gridcolor\":\"white\",\"linecolor\":\"white\",\"ticks\":\"\"},\"bgcolor\":\"#E5ECF6\",\"radialaxis\":{\"gridcolor\":\"white\",\"linecolor\":\"white\",\"ticks\":\"\"}},\"scene\":{\"xaxis\":{\"backgroundcolor\":\"#E5ECF6\",\"gridcolor\":\"white\",\"gridwidth\":2,\"linecolor\":\"white\",\"showbackground\":true,\"ticks\":\"\",\"zerolinecolor\":\"white\"},\"yaxis\":{\"backgroundcolor\":\"#E5ECF6\",\"gridcolor\":\"white\",\"gridwidth\":2,\"linecolor\":\"white\",\"showbackground\":true,\"ticks\":\"\",\"zerolinecolor\":\"white\"},\"zaxis\":{\"backgroundcolor\":\"#E5ECF6\",\"gridcolor\":\"white\",\"gridwidth\":2,\"linecolor\":\"white\",\"showbackground\":true,\"ticks\":\"\",\"zerolinecolor\":\"white\"}},\"shapedefaults\":{\"line\":{\"color\":\"#2a3f5f\"}},\"ternary\":{\"aaxis\":{\"gridcolor\":\"white\",\"linecolor\":\"white\",\"ticks\":\"\"},\"baxis\":{\"gridcolor\":\"white\",\"linecolor\":\"white\",\"ticks\":\"\"},\"bgcolor\":\"#E5ECF6\",\"caxis\":{\"gridcolor\":\"white\",\"linecolor\":\"white\",\"ticks\":\"\"}},\"title\":{\"x\":0.05},\"xaxis\":{\"automargin\":true,\"gridcolor\":\"white\",\"linecolor\":\"white\",\"ticks\":\"\",\"title\":{\"standoff\":15},\"zerolinecolor\":\"white\",\"zerolinewidth\":2},\"yaxis\":{\"automargin\":true,\"gridcolor\":\"white\",\"linecolor\":\"white\",\"ticks\":\"\",\"title\":{\"standoff\":15},\"zerolinecolor\":\"white\",\"zerolinewidth\":2}}},\"xaxis\":{\"anchor\":\"y\",\"domain\":[0.0,1.0],\"title\":{\"text\":\"Year\"}},\"yaxis\":{\"anchor\":\"x\",\"domain\":[0.0,1.0],\"title\":{\"text\":\"Percent Unique\"}},\"legend\":{\"tracegroupgap\":0},\"title\":{\"text\":\"Word Count Over Time\"}},                        {\"responsive\": true}                    ).then(function(){\n",
       "                            \n",
       "var gd = document.getElementById('500b04b6-9a23-49a4-951d-c0dc3aba17f3');\n",
       "var x = new MutationObserver(function (mutations, observer) {{\n",
       "        var display = window.getComputedStyle(gd).display;\n",
       "        if (!display || display === 'none') {{\n",
       "            console.log([gd, 'removed!']);\n",
       "            Plotly.purge(gd);\n",
       "            observer.disconnect();\n",
       "        }}\n",
       "}});\n",
       "\n",
       "// Listen for the removal of the full notebook cells\n",
       "var notebookContainer = gd.closest('#notebook-container');\n",
       "if (notebookContainer) {{\n",
       "    x.observe(notebookContainer, {childList: true});\n",
       "}}\n",
       "\n",
       "// Listen for the clearing of the current output cell\n",
       "var outputEl = gd.closest('.output');\n",
       "if (outputEl) {{\n",
       "    x.observe(outputEl, {childList: true});\n",
       "}}\n",
       "\n",
       "                        })                };                });            </script>        </div>"
      ]
     },
     "metadata": {},
     "output_type": "display_data"
    }
   ],
   "source": [
    "fig = px.scatter(df, x=\"Year\", y=\"Percent Unique\", title='Word Count Over Time')\n",
    "fig.show()"
   ]
  },
  {
   "cell_type": "code",
   "execution_count": 21,
   "metadata": {},
   "outputs": [
    {
     "data": {
      "text/plain": [
       "2"
      ]
     },
     "execution_count": 21,
     "metadata": {},
     "output_type": "execute_result"
    }
   ],
   "source": []
  },
  {
   "cell_type": "code",
   "execution_count": null,
   "metadata": {},
   "outputs": [],
   "source": []
  }
 ],
 "metadata": {
  "kernelspec": {
   "display_name": "Python 3",
   "language": "python",
   "name": "python3"
  },
  "language_info": {
   "codemirror_mode": {
    "name": "ipython",
    "version": 3
   },
   "file_extension": ".py",
   "mimetype": "text/x-python",
   "name": "python",
   "nbconvert_exporter": "python",
   "pygments_lexer": "ipython3",
   "version": "3.7.4"
  }
 },
 "nbformat": 4,
 "nbformat_minor": 2
}
